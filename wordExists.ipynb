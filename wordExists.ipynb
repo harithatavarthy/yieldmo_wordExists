{
 "cells": [
  {
   "cell_type": "markdown",
   "metadata": {},
   "source": [
    "## Check if a word exists is an grid? Like the find words we used to solve as kids. For this question, you can go left or right, up or down. To keep it simple, no diagonals\n",
    "\n",
    "Example :\n",
    "\n",
    "    acdef\n",
    "    ghije\n",
    "    mopqu\n",
    "    swtuv\n",
    "\n",
    "return `true` for word `how` and `vue` but `false` for `mope`\n",
    "\n",
    "Function Signature\n",
    "\n",
    "`def doesWordExist(grid: Array[Array[Char]], word: String): Boolean`"
   ]
  },
  {
   "cell_type": "markdown",
   "metadata": {},
   "source": [
    "---------------------------------------------------------------------------------------------------\n",
    "# Solution...\n",
    "\n",
    "### First we will import the necessary libraries"
   ]
  },
  {
   "cell_type": "code",
   "execution_count": 226,
   "metadata": {},
   "outputs": [],
   "source": [
    "import numpy as np\n",
    "import sys, getopt"
   ]
  },
  {
   "cell_type": "markdown",
   "metadata": {},
   "source": [
    "### We will then define the function `convert` - that will take list of characters as input and returns a string."
   ]
  },
  {
   "cell_type": "code",
   "execution_count": 227,
   "metadata": {},
   "outputs": [],
   "source": [
    "# Python program to convert a list \n",
    "# of charcater \n",
    "  \n",
    "def convert(s): \n",
    "  \n",
    "    # initialization of string to \"\" \n",
    "    str1 = \"\" \n",
    "  \n",
    "    # using join function join the list s by  \n",
    "    # separating words by str1 \n",
    "    return(str1.join(s)) "
   ]
  },
  {
   "cell_type": "markdown",
   "metadata": {},
   "source": [
    "### We will also define the function `doesWordExists` - that will take 2D list of characters and a string as input. It will then scan through the 2D list for existance of the supplied string in it "
   ]
  },
  {
   "cell_type": "code",
   "execution_count": 233,
   "metadata": {},
   "outputs": [],
   "source": [
    "## below function will scan through the 2D list and see the it has the user supplied word.\n",
    "## The function uses numpy implementation of ndarray's for efficient operations over a given 2D list\n",
    "\n",
    "def doesWordExists(grid, word):\n",
    "    npgrid = np.array(grid)\n",
    "    wlen = len(word)\n",
    "\n",
    "    if (wlen > npgrid.shape[0] and wlen > npgrid.shape[1]):\n",
    "        return False\n",
    "    elif (wlen == 0):\n",
    "        return False\n",
    "    else:\n",
    "        for i in range(npgrid.shape[0]):\n",
    "            for j in range(npgrid.shape[1]):\n",
    "              rstr = convert(npgrid[i][j:wlen+j])\n",
    "              if(word == rstr or word == rstr[::-1]):\n",
    "                return True\n",
    "            \n",
    "        npgrid = npgrid.transpose()\n",
    "        \n",
    "        for i in range(npgrid.shape[0]):\n",
    "            #print(\"i\",i)\n",
    "            for j in range(npgrid.shape[1]):\n",
    "              #print(\"j\",j)\n",
    "              #print(convert(npgrid[i][j:wlen+j]))\n",
    "              rstr = convert(npgrid[i][j:wlen+j])\n",
    "              if(word == rstr or word == rstr[::-1]):\n",
    "                return True\n",
    "            \n",
    "    return False\n",
    "        \n",
    " "
   ]
  },
  {
   "cell_type": "markdown",
   "metadata": {},
   "source": [
    "### Finally we will have the main portion of the program where we define the grid and also handle the parameters passed to it from command line.The user supplied parameter (word) is passed as an input to `doesWordExists` function. The boolean output from the function is printed at the terminal . `True` represents that the grid contains the word the user passed as input. `False` represents the absance of the work in the grid."
   ]
  },
  {
   "cell_type": "code",
   "execution_count": 238,
   "metadata": {},
   "outputs": [
    {
     "name": "stdout",
     "output_type": "stream",
     "text": [
      "True\n"
     ]
    }
   ],
   "source": [
    "if __name__ == \"__main__\":\n",
    "   \n",
    "   grid  = [['a','c','d','e','f'],\n",
    "         ['g','h','i','j','e'],\n",
    "         ['m','o','p','q','u'],\n",
    "         ['s','w','t','u','v']]\n",
    "\n",
    "   #sys.argv[1] = \"how\"\n",
    "   #sys.argv[1] = \"vue\"\n",
    "   #sys.argv[1] = \"mope\"\n",
    "   result = doesWordExists(grid,sys.argv[1])\n",
    "   print(result)"
   ]
  },
  {
   "cell_type": "code",
   "execution_count": null,
   "metadata": {},
   "outputs": [],
   "source": []
  },
  {
   "cell_type": "code",
   "execution_count": null,
   "metadata": {},
   "outputs": [],
   "source": []
  }
 ],
 "metadata": {
  "kernelspec": {
   "display_name": "Python 3",
   "language": "python",
   "name": "python3"
  },
  "language_info": {
   "codemirror_mode": {
    "name": "ipython",
    "version": 3
   },
   "file_extension": ".py",
   "mimetype": "text/x-python",
   "name": "python",
   "nbconvert_exporter": "python",
   "pygments_lexer": "ipython3",
   "version": "3.7.3"
  }
 },
 "nbformat": 4,
 "nbformat_minor": 2
}
